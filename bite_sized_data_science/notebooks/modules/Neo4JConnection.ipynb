{
  "nbformat": 4,
  "nbformat_minor": 0,
  "metadata": {
    "colab": {
      "provenance": [],
      "authorship_tag": "ABX9TyOpe+5sQNWi+yp0IH3AGMmF"
    },
    "kernelspec": {
      "name": "python3",
      "display_name": "Python 3"
    },
    "language_info": {
      "name": "python"
    }
  },
  "cells": [
    {
      "cell_type": "code",
      "execution_count": null,
      "metadata": {
        "id": "Qonx5X9cbyru"
      },
      "outputs": [],
      "source": [
        "class Neo4JConnection:\n",
        "  def __init__(self, uri, user, pwd):\n",
        "    self.__uri = uri\n",
        "    self.__user = user\n",
        "    self.__pwd = pwd\n",
        "    self.__driver = None\n",
        "\n",
        "    try:\n",
        "      self.__driver = GraphDatabase.driver(self.__uri, auth = (self.__user, self.__pwd))\n",
        "      self.__driver.verify_connectivity()\n",
        "    except:\n",
        "      print(\"Failed to initiate the driver\")\n",
        "    else:\n",
        "      print(\"Driver initiated successfully\")\n",
        "\n",
        "  def close(self):\n",
        "    if self.__driver is not None:\n",
        "      self.__driver.close()\n",
        "\n",
        "  def query(self, query, parameters=None, db=None):\n",
        "    assert self.__driver is not None, \"Driver not initilized\"\n",
        "    session = None\n",
        "    response = None\n",
        "\n",
        "    try:\n",
        "      session = self.__driver.session(database=db) if db is not None else self.__driver.session()\n",
        "      response = list(session.run(query, parameters))\n",
        "    except:\n",
        "      print(\"Query failed\")\n",
        "    finally:\n",
        "      if session is not None:\n",
        "        session.close()\n",
        "      return response"
      ]
    }
  ]
}